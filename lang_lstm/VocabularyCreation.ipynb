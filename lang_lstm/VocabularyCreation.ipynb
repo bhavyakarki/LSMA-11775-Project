{
 "cells": [
  {
   "cell_type": "code",
   "execution_count": 11,
   "metadata": {},
   "outputs": [],
   "source": [
    "import os\n",
    "import torch\n",
    "import numpy as np\n",
    "\n",
    "class VocabularyIndexer(object):\n",
    "    def __init__(self):\n",
    "        self.word2idx = {}\n",
    "        self.idx2word = []\n",
    "\n",
    "    def add_word(self, word):\n",
    "        if word not in self.word2idx:\n",
    "            #print (word)\n",
    "            self.idx2word.append(word)\n",
    "            self.word2idx[word] = len(self.idx2word) - 1\n",
    "        return self.word2idx[word]\n",
    "\n",
    "    def __len__(self):\n",
    "        return len(self.idx2word)\n",
    "\n",
    "\n",
    "class MomentDescription(object):\n",
    "    def __init__(self, path):\n",
    "        self.dictionary = VocabularyIndexer()\n",
    "        #print (os.path.join(path, 'description.txt'))\n",
    "        self.train = self.tokenize(os.path.join(path, 'description.txt'))\n",
    "\n",
    "    def tokenize(self, path):\n",
    "        \"\"\"Tokenizes a text file.\"\"\"\n",
    "        assert os.path.exists(path)\n",
    "        # Add words to the dictionary\n",
    "        with open(path, 'r') as f:\n",
    "            tokens = 0\n",
    "            for line in f:\n",
    "                words = ['<eos>'] + line.split() + ['<eos>']\n",
    "                tokens += len(words)\n",
    "                for word in words:\n",
    "                    if '.' in word:\n",
    "                        word = word.replace(\".\", \"\")\n",
    "                    self.dictionary.add_word(word)\n",
    "        print (len(self.dictionary))\n",
    "        # Tokenize file content and returns the tokens\n",
    "        with open(path, 'r') as f:\n",
    "            ids = []\n",
    "            token = 0\n",
    "            for line in f:\n",
    "                token = 0\n",
    "                words = ['<eos>'] + line.split() + ['<eos>']\n",
    "                sent = np.empty(shape=(len(words),), dtype =int)\n",
    "                for word in words:\n",
    "                    if '.' in word:\n",
    "                        word = word.replace(\".\", \"\")\n",
    "                    sent[token] = self.dictionary.word2idx[word]\n",
    "                    token += 1\n",
    "                ids.append(sent)\n",
    "        #print(\"-----\", len(ids))     \n",
    "        return ids"
   ]
  },
  {
   "cell_type": "code",
   "execution_count": 12,
   "metadata": {
    "scrolled": true
   },
   "outputs": [
    {
     "name": "stdout",
     "output_type": "stream",
     "text": [
      "7614\n"
     ]
    }
   ],
   "source": [
    "path = ''\n",
    "sample = MomentDescription(path)\n",
    "#for i in sample.train[:]:\n",
    "#    print (i)\n",
    "#print (sample.train[:10])\n",
    "#print (len(sample.dictionary))"
   ]
  },
  {
   "cell_type": "code",
   "execution_count": null,
   "metadata": {},
   "outputs": [],
   "source": []
  },
  {
   "cell_type": "code",
   "execution_count": null,
   "metadata": {},
   "outputs": [],
   "source": []
  }
 ],
 "metadata": {
  "kernelspec": {
   "display_name": "Python [conda env:pytorch_p36]",
   "language": "python",
   "name": "conda-env-pytorch_p36-py"
  },
  "language_info": {
   "codemirror_mode": {
    "name": "ipython",
    "version": 3
   },
   "file_extension": ".py",
   "mimetype": "text/x-python",
   "name": "python",
   "nbconvert_exporter": "python",
   "pygments_lexer": "ipython3",
   "version": "3.6.4"
  }
 },
 "nbformat": 4,
 "nbformat_minor": 2
}
